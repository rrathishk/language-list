{
  "nbformat": 4,
  "nbformat_minor": 0,
  "metadata": {
    "colab": {
      "provenance": [],
      "authorship_tag": "ABX9TyP14ZwwOnrE5eE7tBUO+Dii",
      "include_colab_link": true
    },
    "kernelspec": {
      "name": "python3",
      "display_name": "Python 3"
    },
    "language_info": {
      "name": "python"
    }
  },
  "cells": [
    {
      "cell_type": "markdown",
      "metadata": {
        "id": "view-in-github",
        "colab_type": "text"
      },
      "source": [
        "<a href=\"https://colab.research.google.com/github/rrathishk/language-list/blob/master/FileCopy.ipynb\" target=\"_parent\"><img src=\"https://colab.research.google.com/assets/colab-badge.svg\" alt=\"Open In Colab\"/></a>"
      ]
    },
    {
      "cell_type": "code",
      "execution_count": null,
      "metadata": {
        "id": "UndSbaO9N_zx"
      },
      "outputs": [],
      "source": [
        "!pip install os shutil logging defaultdict"
      ]
    },
    {
      "cell_type": "code",
      "source": [
        "\"\"\"\n",
        "File Name: copyICAMonthlyFiles.py\n",
        "Description: This script copies the most recent CSV files for each circuit to a single output directory.\n",
        "Author: [Rathish K.]\n",
        "Created: [3/8/23]\n",
        "Change Log:\n",
        "- [3/8]: [Rathish K.]: [Initial]\n",
        "\"\"\""
      ],
      "metadata": {
        "id": "DmwgBQ8-OLI0"
      },
      "execution_count": null,
      "outputs": []
    },
    {
      "cell_type": "code",
      "source": [
        "import os\n",
        "import shutil\n",
        "import logging\n",
        "from collections import defaultdict"
      ],
      "metadata": {
        "id": "9PLApADGOLEZ"
      },
      "execution_count": 4,
      "outputs": []
    },
    {
      "cell_type": "code",
      "source": [
        "# Set up logging\n",
        "logging.basicConfig(level=logging.INFO,\n",
        "                    format='%(asctime)s - %(levelname)s - %(message)s')"
      ],
      "metadata": {
        "id": "gS1AiKhuOLAx"
      },
      "execution_count": 5,
      "outputs": []
    },
    {
      "cell_type": "code",
      "source": [
        "def copy_recent_files(directory_path, output_directory_name):\n",
        "    \"\"\"\n",
        "    Copies the most recent CSV files for each circuit to a single output directory.\n",
        "\n",
        "    Args:\n",
        "        directory_path (str): Path to the directory containing the folders with files.\n",
        "        output_directory_name (str): Name of the directory where the recent files will be stored.\n",
        "\n",
        "    Returns:\n",
        "        None\n",
        "    \"\"\"\n",
        "\n",
        "    # Create the output directory if it doesn't exist\n",
        "    if not os.path.exists(output_directory_name):\n",
        "        os.mkdir(output_directory_name)\n",
        "\n",
        "    # Dictionary to store the most recent file for each circuit\n",
        "    recent_files = defaultdict(lambda: {'date': None, 'file_path': None})\n",
        "\n",
        "    # Loop over all the folders in the directory\n",
        "    for folder_name in os.listdir(directory_path):\n",
        "        # Check if the folder name starts with \"ICA_RESULTS_\"\n",
        "        if not folder_name.startswith('ICA_RESULTS_'):\n",
        "            continue\n",
        "\n",
        "        # Get the date from the folder name\n",
        "        date_str = folder_name.split('_', 2)[2]\n",
        "\n",
        "        # Loop over all the files in the folder\n",
        "        for file_name in os.listdir(os.path.join(directory_path, folder_name)):\n",
        "            # Check if the file is a CSV file\n",
        "            if not file_name.endswith('.csv'):\n",
        "                continue\n",
        "\n",
        "            # Get the circuit name from the file name\n",
        "            circuit_name = file_name.split('.')[0]\n",
        "\n",
        "            # Check if the file is more recent than the current most recent file for the circuit\n",
        "            if recent_files[circuit_name]['date'] is None or date_str > recent_files[circuit_name]['date']:\n",
        "                # Update the most recent file for the circuit\n",
        "                recent_files[circuit_name]['date'] = date_str\n",
        "                recent_files[circuit_name]['file_path'] = os.path.join(\n",
        "                    directory_path, folder_name, file_name)\n",
        "\n",
        "    # Copy the most recent files to the output directory\n",
        "    for circuit_name, file_info in recent_files.items():\n",
        "        if file_info['file_path'] is not None:\n",
        "            output_file_path = os.path.join(\n",
        "                output_directory_name, f\"{circuit_name}.csv\")\n",
        "            try:\n",
        "                shutil.copy(file_info['file_path'], output_file_path)\n",
        "                logging.info(\n",
        "                    f\"Copied {file_info['file_path']} to {output_file_path}\")\n",
        "            except Exception as e:\n",
        "                logging.error(\n",
        "                    f\"Failed to copy {file_info['file_path']} to {output_file_path}: {e}\")"
      ],
      "metadata": {
        "id": "95BxCf1OOKmF"
      },
      "execution_count": 6,
      "outputs": []
    },
    {
      "cell_type": "code",
      "source": [
        "if __name__ == '__main__':\n",
        "    # Define the directory containing the folders with files\n",
        "    directory_path = 'sample_data/Test/ICA_RESULTS'\n",
        "\n",
        "    # Define the name of the directory where the recent files will be stored\n",
        "    output_directory_name = 'sample_data/Test/CompleteICA'\n",
        "\n",
        "    # Call the function to copy the recent files\n",
        "    copy_recent_files(directory_path, output_directory_name)"
      ],
      "metadata": {
        "id": "v0m_7M1fOeg4"
      },
      "execution_count": 11,
      "outputs": []
    }
  ]
}